{
  "nbformat": 4,
  "nbformat_minor": 0,
  "metadata": {
    "colab": {
      "provenance": [],
      "authorship_tag": "ABX9TyN7qqoTjRgDY9vWsDrwaLDN",
      "include_colab_link": true
    },
    "kernelspec": {
      "name": "python3",
      "display_name": "Python 3"
    },
    "language_info": {
      "name": "python"
    }
  },
  "cells": [
    {
      "cell_type": "markdown",
      "metadata": {
        "id": "view-in-github",
        "colab_type": "text"
      },
      "source": [
        "<a href=\"https://colab.research.google.com/github/Chambi-cyber/CyberSecurity-Portfolio/blob/main/Functions.ipynb\" target=\"_parent\"><img src=\"https://colab.research.google.com/assets/colab-badge.svg\" alt=\"Open In Colab\"/></a>"
      ]
    },
    {
      "cell_type": "markdown",
      "source": [
        "#**Functions - Basic**"
      ],
      "metadata": {
        "id": "QAT01tLEjknj"
      }
    },
    {
      "cell_type": "code",
      "source": [
        "# input, logic, output"
      ],
      "metadata": {
        "id": "n63n7bzejrqT"
      },
      "execution_count": null,
      "outputs": []
    },
    {
      "cell_type": "code",
      "source": [
        "print(\"Hello Uttam\")"
      ],
      "metadata": {
        "colab": {
          "base_uri": "https://localhost:8080/",
          "height": 0
        },
        "id": "NIrZb81hkIoZ",
        "outputId": "ff642b14-43b6-462d-f701-6f074dd52fd4"
      },
      "execution_count": 1,
      "outputs": [
        {
          "output_type": "stream",
          "name": "stdout",
          "text": [
            "Hello Uttam\n"
          ]
        }
      ]
    },
    {
      "cell_type": "markdown",
      "source": [
        "#**1. Defining a function**"
      ],
      "metadata": {
        "id": "ukVuDzq6k0Y4"
      }
    },
    {
      "cell_type": "code",
      "source": [
        "def hello():\n",
        "  print(\"Hello Uttam!\")"
      ],
      "metadata": {
        "id": "g52MYNeIlFeG"
      },
      "execution_count": 16,
      "outputs": []
    },
    {
      "cell_type": "markdown",
      "source": [
        "#**2.Calling a funtion**"
      ],
      "metadata": {
        "id": "J8H2gyfBmXGM"
      }
    },
    {
      "cell_type": "code",
      "source": [
        "hello()"
      ],
      "metadata": {
        "colab": {
          "base_uri": "https://localhost:8080/",
          "height": 0
        },
        "id": "KeLniaIrljSX",
        "outputId": "5e3be64a-f2af-4eda-d4b7-ee24bb75d239"
      },
      "execution_count": 17,
      "outputs": [
        {
          "output_type": "stream",
          "name": "stdout",
          "text": [
            "Hello Uttam!\n"
          ]
        }
      ]
    },
    {
      "cell_type": "code",
      "source": [
        "# input - inside braces - no\n",
        "# logic - print\n",
        "# Output - Hello Uttam"
      ],
      "metadata": {
        "id": "5UoBiRfoltFt"
      },
      "execution_count": null,
      "outputs": []
    },
    {
      "cell_type": "code",
      "source": [],
      "metadata": {
        "id": "-1f0pa-SrsSF"
      },
      "execution_count": 11,
      "outputs": []
    },
    {
      "cell_type": "markdown",
      "source": [
        "#**3.Function with Perameters/Params**"
      ],
      "metadata": {
        "id": "7g_RIh1jnF0_"
      }
    },
    {
      "cell_type": "code",
      "source": [
        "def hello(name):\n",
        "  print(f\"Hello {name}!\")"
      ],
      "metadata": {
        "id": "Xfr2LLKGm0hf"
      },
      "execution_count": 14,
      "outputs": []
    },
    {
      "cell_type": "code",
      "source": [
        "hello(\"Uttam\")"
      ],
      "metadata": {
        "colab": {
          "base_uri": "https://localhost:8080/",
          "height": 0
        },
        "id": "JLWGetHDp_rQ",
        "outputId": "18e59dc5-d8c5-4063-b121-0c4faa24db20"
      },
      "execution_count": 15,
      "outputs": [
        {
          "output_type": "stream",
          "name": "stdout",
          "text": [
            "Hello Uttam!\n"
          ]
        }
      ]
    },
    {
      "cell_type": "markdown",
      "source": [
        "#**F Strings**"
      ],
      "metadata": {
        "id": "QilvWSWnwLL5"
      }
    },
    {
      "cell_type": "code",
      "source": [
        "country = \"Inida\"\n",
        "capital = \"New Delhi\"\n",
        "print(f\"The capital of {country} is {capital}\")"
      ],
      "metadata": {
        "colab": {
          "base_uri": "https://localhost:8080/",
          "height": 0
        },
        "id": "gPJUNdFcvOZo",
        "outputId": "6231c338-b7b3-4ae8-b494-c714dfaf8dcf"
      },
      "execution_count": 18,
      "outputs": [
        {
          "output_type": "stream",
          "name": "stdout",
          "text": [
            "The capital of Inida is New Delhi\n"
          ]
        }
      ]
    },
    {
      "cell_type": "markdown",
      "source": [
        "#**4.Function with return value**"
      ],
      "metadata": {
        "id": "sXi8qXqDxvNE"
      }
    },
    {
      "cell_type": "code",
      "source": [
        "# two numbers = add them\n",
        "def add_numbers(x, y):\n",
        "  return x+y"
      ],
      "metadata": {
        "id": "fhuudwTkwnOJ"
      },
      "execution_count": 26,
      "outputs": []
    },
    {
      "cell_type": "code",
      "source": [
        "add_numbers(5,6)"
      ],
      "metadata": {
        "colab": {
          "base_uri": "https://localhost:8080/",
          "height": 0
        },
        "id": "P6RYNiE_xJgY",
        "outputId": "b25e22bf-f0bf-414e-f83b-58c71ccdfdae"
      },
      "execution_count": 30,
      "outputs": [
        {
          "output_type": "execute_result",
          "data": {
            "text/plain": [
              "11"
            ]
          },
          "metadata": {},
          "execution_count": 30
        }
      ]
    },
    {
      "cell_type": "code",
      "source": [
        "v = add_numbers(5, 6)"
      ],
      "metadata": {
        "id": "TDeR3jflymuo"
      },
      "execution_count": 32,
      "outputs": []
    },
    {
      "cell_type": "code",
      "source": [
        "v"
      ],
      "metadata": {
        "colab": {
          "base_uri": "https://localhost:8080/",
          "height": 0
        },
        "id": "5Mu9MPm9zl2w",
        "outputId": "01a511be-9efd-4229-e68f-598d11f7c353"
      },
      "execution_count": 33,
      "outputs": [
        {
          "output_type": "execute_result",
          "data": {
            "text/plain": [
              "11"
            ]
          },
          "metadata": {},
          "execution_count": 33
        }
      ]
    }
  ]
}