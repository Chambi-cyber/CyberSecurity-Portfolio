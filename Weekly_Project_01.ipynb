{
  "nbformat": 4,
  "nbformat_minor": 0,
  "metadata": {
    "colab": {
      "provenance": [],
      "authorship_tag": "ABX9TyN2MWcapcLmkitIg9NLw764",
      "include_colab_link": true
    },
    "kernelspec": {
      "name": "python3",
      "display_name": "Python 3"
    },
    "language_info": {
      "name": "python"
    }
  },
  "cells": [
    {
      "cell_type": "markdown",
      "metadata": {
        "id": "view-in-github",
        "colab_type": "text"
      },
      "source": [
        "<a href=\"https://colab.research.google.com/github/Chambi-cyber/CyberSecurity-Portfolio/blob/main/Weekly_Project_01.ipynb\" target=\"_parent\"><img src=\"https://colab.research.google.com/assets/colab-badge.svg\" alt=\"Open In Colab\"/></a>"
      ]
    },
    {
      "cell_type": "code",
      "execution_count": null,
      "metadata": {
        "id": "cmexeVlZJoBJ"
      },
      "outputs": [],
      "source": []
    },
    {
      "cell_type": "markdown",
      "source": [
        "#**Task to do**\n",
        "\n",
        "\"Grocery Shopping\", \"Pay Bills\", \"Book Doctor Appointment\""
      ],
      "metadata": {
        "id": "5aunq1EqLHWI"
      }
    },
    {
      "cell_type": "code",
      "source": [
        "Checklist = [\"Grocery Shopping\", \"Pay Bills\", \"Book Doctor Appointment\"]"
      ],
      "metadata": {
        "id": "fQYSLzoQLTQD"
      },
      "execution_count": 1,
      "outputs": []
    },
    {
      "cell_type": "code",
      "source": [
        "Checklist"
      ],
      "metadata": {
        "colab": {
          "base_uri": "https://localhost:8080/"
        },
        "id": "WEmi0AeHQFzp",
        "outputId": "5aa88854-ad2c-4634-9dc6-9429d3febad9"
      },
      "execution_count": 2,
      "outputs": [
        {
          "output_type": "execute_result",
          "data": {
            "text/plain": [
              "['Grocery Shopping', 'Pay Bills', 'Book Doctor Appointment']"
            ]
          },
          "metadata": {},
          "execution_count": 2
        }
      ]
    },
    {
      "cell_type": "code",
      "source": [
        "completed_tasks = [\"Grocery Shopping\", \"Pay Bills\"]\n",
        "incomplete_tasks = [\"Book Doctor Appointment\"]"
      ],
      "metadata": {
        "id": "_mYdoA7yQNAw"
      },
      "execution_count": 3,
      "outputs": []
    },
    {
      "cell_type": "code",
      "source": [
        "if Checklist == completed_tasks:\n",
        "  print(\"Completed Grocery Shopping and Bills Payment\")\n",
        "else:\n",
        "  print(\"Pending Doctor Appointment\")"
      ],
      "metadata": {
        "colab": {
          "base_uri": "https://localhost:8080/"
        },
        "id": "u-tVs91VWnnC",
        "outputId": "7acf2b68-4eaa-41cf-af92-b1d319156308"
      },
      "execution_count": 8,
      "outputs": [
        {
          "output_type": "stream",
          "name": "stdout",
          "text": [
            "Pending Doctor Appointment\n"
          ]
        }
      ]
    },
    {
      "cell_type": "code",
      "source": [
        "if Checklist == incomplete_tasks:\n",
        "  print(\"Pending Doctor Appointment\")\n",
        "else:\n",
        "  print(\"Completed Grocery Shopping and Bills Payment\")"
      ],
      "metadata": {
        "colab": {
          "base_uri": "https://localhost:8080/"
        },
        "id": "9F4W5HIgj0hc",
        "outputId": "03fde275-504d-4293-92c6-d29c9c4d9e31"
      },
      "execution_count": 12,
      "outputs": [
        {
          "output_type": "stream",
          "name": "stdout",
          "text": [
            "Completed Grocery Shopping and Bills Payment\n"
          ]
        }
      ]
    },
    {
      "cell_type": "markdown",
      "source": [
        "#**Final tasks Status**"
      ],
      "metadata": {
        "id": "H6dmP8gukhqL"
      }
    },
    {
      "cell_type": "code",
      "source": [
        "incomplete_tasks=\"Pending Doctor Appointment\"\n",
        "completed_tasks=\"Completed Grocery Shopping and Bills Payment\""
      ],
      "metadata": {
        "id": "HyC5eHb5l5wL"
      },
      "execution_count": 14,
      "outputs": []
    },
    {
      "cell_type": "code",
      "source": [
        "incomplete_tasks"
      ],
      "metadata": {
        "colab": {
          "base_uri": "https://localhost:8080/",
          "height": 35
        },
        "id": "ENTVa10_meGp",
        "outputId": "bdc6cce5-6711-4c18-8d35-569d9f605d36"
      },
      "execution_count": 15,
      "outputs": [
        {
          "output_type": "execute_result",
          "data": {
            "text/plain": [
              "'Pending Doctor Appointment'"
            ],
            "application/vnd.google.colaboratory.intrinsic+json": {
              "type": "string"
            }
          },
          "metadata": {},
          "execution_count": 15
        }
      ]
    },
    {
      "cell_type": "code",
      "source": [
        "completed_tasks"
      ],
      "metadata": {
        "colab": {
          "base_uri": "https://localhost:8080/",
          "height": 35
        },
        "id": "bzmBkJsJmiq2",
        "outputId": "48d7ac89-8ded-4d77-eaec-e76e5c686a1e"
      },
      "execution_count": 16,
      "outputs": [
        {
          "output_type": "execute_result",
          "data": {
            "text/plain": [
              "'Completed Grocery Shopping and Bills Payment'"
            ],
            "application/vnd.google.colaboratory.intrinsic+json": {
              "type": "string"
            }
          },
          "metadata": {},
          "execution_count": 16
        }
      ]
    }
  ]
}